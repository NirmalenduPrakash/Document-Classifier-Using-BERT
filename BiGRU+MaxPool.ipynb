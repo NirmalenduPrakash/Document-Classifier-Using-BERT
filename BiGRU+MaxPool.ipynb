{
  "nbformat": 4,
  "nbformat_minor": 0,
  "metadata": {
    "colab": {
      "name": "BiGRU+MaxPool.ipynb",
      "provenance": [],
      "collapsed_sections": [],
      "machine_shape": "hm"
    },
    "kernelspec": {
      "name": "python3",
      "display_name": "Python 3"
    },
    "accelerator": "GPU",
    "widgets": {
      "application/vnd.jupyter.widget-state+json": {
        "51c0abaf27724cc58ecd0d21bd5a035d": {
          "model_module": "@jupyter-widgets/controls",
          "model_name": "HBoxModel",
          "state": {
            "_view_name": "HBoxView",
            "_dom_classes": [],
            "_model_name": "HBoxModel",
            "_view_module": "@jupyter-widgets/controls",
            "_model_module_version": "1.5.0",
            "_view_count": null,
            "_view_module_version": "1.5.0",
            "box_style": "",
            "layout": "IPY_MODEL_7765287263ed4d119582d6781168653c",
            "_model_module": "@jupyter-widgets/controls",
            "children": [
              "IPY_MODEL_78fc08037a4c48958be0f4e29f96f8fb",
              "IPY_MODEL_78dc25cfbee341d5add17d210ca29c03"
            ]
          }
        },
        "7765287263ed4d119582d6781168653c": {
          "model_module": "@jupyter-widgets/base",
          "model_name": "LayoutModel",
          "state": {
            "_view_name": "LayoutView",
            "grid_template_rows": null,
            "right": null,
            "justify_content": null,
            "_view_module": "@jupyter-widgets/base",
            "overflow": null,
            "_model_module_version": "1.2.0",
            "_view_count": null,
            "flex_flow": null,
            "width": null,
            "min_width": null,
            "border": null,
            "align_items": null,
            "bottom": null,
            "_model_module": "@jupyter-widgets/base",
            "top": null,
            "grid_column": null,
            "overflow_y": null,
            "overflow_x": null,
            "grid_auto_flow": null,
            "grid_area": null,
            "grid_template_columns": null,
            "flex": null,
            "_model_name": "LayoutModel",
            "justify_items": null,
            "grid_row": null,
            "max_height": null,
            "align_content": null,
            "visibility": null,
            "align_self": null,
            "height": null,
            "min_height": null,
            "padding": null,
            "grid_auto_rows": null,
            "grid_gap": null,
            "max_width": null,
            "order": null,
            "_view_module_version": "1.2.0",
            "grid_template_areas": null,
            "object_position": null,
            "object_fit": null,
            "grid_auto_columns": null,
            "margin": null,
            "display": null,
            "left": null
          }
        },
        "78fc08037a4c48958be0f4e29f96f8fb": {
          "model_module": "@jupyter-widgets/controls",
          "model_name": "IntProgressModel",
          "state": {
            "_view_name": "ProgressView",
            "style": "IPY_MODEL_6a90195c9ec142adb7044daa6b50733a",
            "_dom_classes": [],
            "description": "Downloading: 100%",
            "_model_name": "IntProgressModel",
            "bar_style": "success",
            "max": 231508,
            "_view_module": "@jupyter-widgets/controls",
            "_model_module_version": "1.5.0",
            "value": 231508,
            "_view_count": null,
            "_view_module_version": "1.5.0",
            "orientation": "horizontal",
            "min": 0,
            "description_tooltip": null,
            "_model_module": "@jupyter-widgets/controls",
            "layout": "IPY_MODEL_445a65c20e084b35958032452ab8b63d"
          }
        },
        "78dc25cfbee341d5add17d210ca29c03": {
          "model_module": "@jupyter-widgets/controls",
          "model_name": "HTMLModel",
          "state": {
            "_view_name": "HTMLView",
            "style": "IPY_MODEL_f66ab1691dde42758cb7620b54363649",
            "_dom_classes": [],
            "description": "",
            "_model_name": "HTMLModel",
            "placeholder": "​",
            "_view_module": "@jupyter-widgets/controls",
            "_model_module_version": "1.5.0",
            "value": " 232k/232k [00:00&lt;00:00, 2.15MB/s]",
            "_view_count": null,
            "_view_module_version": "1.5.0",
            "description_tooltip": null,
            "_model_module": "@jupyter-widgets/controls",
            "layout": "IPY_MODEL_e4b9a0228bac4d929ab09d7c672e73ff"
          }
        },
        "6a90195c9ec142adb7044daa6b50733a": {
          "model_module": "@jupyter-widgets/controls",
          "model_name": "ProgressStyleModel",
          "state": {
            "_view_name": "StyleView",
            "_model_name": "ProgressStyleModel",
            "description_width": "initial",
            "_view_module": "@jupyter-widgets/base",
            "_model_module_version": "1.5.0",
            "_view_count": null,
            "_view_module_version": "1.2.0",
            "bar_color": null,
            "_model_module": "@jupyter-widgets/controls"
          }
        },
        "445a65c20e084b35958032452ab8b63d": {
          "model_module": "@jupyter-widgets/base",
          "model_name": "LayoutModel",
          "state": {
            "_view_name": "LayoutView",
            "grid_template_rows": null,
            "right": null,
            "justify_content": null,
            "_view_module": "@jupyter-widgets/base",
            "overflow": null,
            "_model_module_version": "1.2.0",
            "_view_count": null,
            "flex_flow": null,
            "width": null,
            "min_width": null,
            "border": null,
            "align_items": null,
            "bottom": null,
            "_model_module": "@jupyter-widgets/base",
            "top": null,
            "grid_column": null,
            "overflow_y": null,
            "overflow_x": null,
            "grid_auto_flow": null,
            "grid_area": null,
            "grid_template_columns": null,
            "flex": null,
            "_model_name": "LayoutModel",
            "justify_items": null,
            "grid_row": null,
            "max_height": null,
            "align_content": null,
            "visibility": null,
            "align_self": null,
            "height": null,
            "min_height": null,
            "padding": null,
            "grid_auto_rows": null,
            "grid_gap": null,
            "max_width": null,
            "order": null,
            "_view_module_version": "1.2.0",
            "grid_template_areas": null,
            "object_position": null,
            "object_fit": null,
            "grid_auto_columns": null,
            "margin": null,
            "display": null,
            "left": null
          }
        },
        "f66ab1691dde42758cb7620b54363649": {
          "model_module": "@jupyter-widgets/controls",
          "model_name": "DescriptionStyleModel",
          "state": {
            "_view_name": "StyleView",
            "_model_name": "DescriptionStyleModel",
            "description_width": "",
            "_view_module": "@jupyter-widgets/base",
            "_model_module_version": "1.5.0",
            "_view_count": null,
            "_view_module_version": "1.2.0",
            "_model_module": "@jupyter-widgets/controls"
          }
        },
        "e4b9a0228bac4d929ab09d7c672e73ff": {
          "model_module": "@jupyter-widgets/base",
          "model_name": "LayoutModel",
          "state": {
            "_view_name": "LayoutView",
            "grid_template_rows": null,
            "right": null,
            "justify_content": null,
            "_view_module": "@jupyter-widgets/base",
            "overflow": null,
            "_model_module_version": "1.2.0",
            "_view_count": null,
            "flex_flow": null,
            "width": null,
            "min_width": null,
            "border": null,
            "align_items": null,
            "bottom": null,
            "_model_module": "@jupyter-widgets/base",
            "top": null,
            "grid_column": null,
            "overflow_y": null,
            "overflow_x": null,
            "grid_auto_flow": null,
            "grid_area": null,
            "grid_template_columns": null,
            "flex": null,
            "_model_name": "LayoutModel",
            "justify_items": null,
            "grid_row": null,
            "max_height": null,
            "align_content": null,
            "visibility": null,
            "align_self": null,
            "height": null,
            "min_height": null,
            "padding": null,
            "grid_auto_rows": null,
            "grid_gap": null,
            "max_width": null,
            "order": null,
            "_view_module_version": "1.2.0",
            "grid_template_areas": null,
            "object_position": null,
            "object_fit": null,
            "grid_auto_columns": null,
            "margin": null,
            "display": null,
            "left": null
          }
        }
      }
    }
  },
  "cells": [
    {
      "cell_type": "code",
      "metadata": {
        "id": "lDAoe2fnMbsZ",
        "colab_type": "code",
        "outputId": "d62973b9-b378-4322-af38-dde5a164382c",
        "colab": {
          "base_uri": "https://localhost:8080/",
          "height": 122
        }
      },
      "source": [
        "from google.colab import drive\n",
        "drive.mount('/content/drive')"
      ],
      "execution_count": 0,
      "outputs": [
        {
          "output_type": "stream",
          "text": [
            "Go to this URL in a browser: https://accounts.google.com/o/oauth2/auth?client_id=947318989803-6bn6qk8qdgf4n4g3pfee6491hc0brc4i.apps.googleusercontent.com&redirect_uri=urn%3aietf%3awg%3aoauth%3a2.0%3aoob&response_type=code&scope=email%20https%3a%2f%2fwww.googleapis.com%2fauth%2fdocs.test%20https%3a%2f%2fwww.googleapis.com%2fauth%2fdrive%20https%3a%2f%2fwww.googleapis.com%2fauth%2fdrive.photos.readonly%20https%3a%2f%2fwww.googleapis.com%2fauth%2fpeopleapi.readonly\n",
            "\n",
            "Enter your authorization code:\n",
            "··········\n",
            "Mounted at /content/drive\n"
          ],
          "name": "stdout"
        }
      ]
    },
    {
      "cell_type": "markdown",
      "metadata": {
        "id": "0juCwFejdIJt",
        "colab_type": "text"
      },
      "source": [
        ""
      ]
    },
    {
      "cell_type": "markdown",
      "metadata": {
        "id": "xEMcDmGVGuIx",
        "colab_type": "text"
      },
      "source": [
        "# Data Preparation"
      ]
    },
    {
      "cell_type": "code",
      "metadata": {
        "id": "5fhhOdULM_9k",
        "colab_type": "code",
        "colab": {}
      },
      "source": [
        "import pandas as pd\n",
        "df_promo=pd.read_csv('/content/drive/My Drive/wikipedia-promotional-articles/promotional.csv')"
      ],
      "execution_count": 0,
      "outputs": []
    },
    {
      "cell_type": "code",
      "metadata": {
        "id": "AU8MiRucNQV9",
        "colab_type": "code",
        "outputId": "5f45398b-47de-4958-9f82-98d31668a26e",
        "colab": {
          "base_uri": "https://localhost:8080/",
          "height": 204
        }
      },
      "source": [
        "df_promo.head()"
      ],
      "execution_count": 0,
      "outputs": [
        {
          "output_type": "execute_result",
          "data": {
            "text/html": [
              "<div>\n",
              "<style scoped>\n",
              "    .dataframe tbody tr th:only-of-type {\n",
              "        vertical-align: middle;\n",
              "    }\n",
              "\n",
              "    .dataframe tbody tr th {\n",
              "        vertical-align: top;\n",
              "    }\n",
              "\n",
              "    .dataframe thead th {\n",
              "        text-align: right;\n",
              "    }\n",
              "</style>\n",
              "<table border=\"1\" class=\"dataframe\">\n",
              "  <thead>\n",
              "    <tr style=\"text-align: right;\">\n",
              "      <th></th>\n",
              "      <th>text</th>\n",
              "      <th>advert</th>\n",
              "      <th>coi</th>\n",
              "      <th>fanpov</th>\n",
              "      <th>pr</th>\n",
              "      <th>resume</th>\n",
              "      <th>url</th>\n",
              "    </tr>\n",
              "  </thead>\n",
              "  <tbody>\n",
              "    <tr>\n",
              "      <th>0</th>\n",
              "      <td>1 Litre no Namida 1, lit. 1 Litre of Tears als...</td>\n",
              "      <td>0</td>\n",
              "      <td>0</td>\n",
              "      <td>1</td>\n",
              "      <td>0</td>\n",
              "      <td>0</td>\n",
              "      <td>https://en.wikipedia.org/wiki/1%20Litre%20no%2...</td>\n",
              "    </tr>\n",
              "    <tr>\n",
              "      <th>1</th>\n",
              "      <td>1DayLater was free, web based software that wa...</td>\n",
              "      <td>1</td>\n",
              "      <td>1</td>\n",
              "      <td>0</td>\n",
              "      <td>0</td>\n",
              "      <td>0</td>\n",
              "      <td>https://en.wikipedia.org/wiki/1DayLater</td>\n",
              "    </tr>\n",
              "    <tr>\n",
              "      <th>2</th>\n",
              "      <td>1E is a privately owned IT software and servic...</td>\n",
              "      <td>1</td>\n",
              "      <td>0</td>\n",
              "      <td>0</td>\n",
              "      <td>0</td>\n",
              "      <td>0</td>\n",
              "      <td>https://en.wikipedia.org/wiki/1E</td>\n",
              "    </tr>\n",
              "    <tr>\n",
              "      <th>3</th>\n",
              "      <td>1Malaysia pronounced One Malaysia in English a...</td>\n",
              "      <td>1</td>\n",
              "      <td>0</td>\n",
              "      <td>0</td>\n",
              "      <td>0</td>\n",
              "      <td>0</td>\n",
              "      <td>https://en.wikipedia.org/wiki/1Malaysia</td>\n",
              "    </tr>\n",
              "    <tr>\n",
              "      <th>4</th>\n",
              "      <td>The Jerusalem Biennale, as stated on the Bienn...</td>\n",
              "      <td>1</td>\n",
              "      <td>0</td>\n",
              "      <td>0</td>\n",
              "      <td>0</td>\n",
              "      <td>0</td>\n",
              "      <td>https://en.wikipedia.org/wiki/1st%20Jerusalem%...</td>\n",
              "    </tr>\n",
              "  </tbody>\n",
              "</table>\n",
              "</div>"
            ],
            "text/plain": [
              "                                                text  ...                                                url\n",
              "0  1 Litre no Namida 1, lit. 1 Litre of Tears als...  ...  https://en.wikipedia.org/wiki/1%20Litre%20no%2...\n",
              "1  1DayLater was free, web based software that wa...  ...            https://en.wikipedia.org/wiki/1DayLater\n",
              "2  1E is a privately owned IT software and servic...  ...                   https://en.wikipedia.org/wiki/1E\n",
              "3  1Malaysia pronounced One Malaysia in English a...  ...            https://en.wikipedia.org/wiki/1Malaysia\n",
              "4  The Jerusalem Biennale, as stated on the Bienn...  ...  https://en.wikipedia.org/wiki/1st%20Jerusalem%...\n",
              "\n",
              "[5 rows x 7 columns]"
            ]
          },
          "metadata": {
            "tags": []
          },
          "execution_count": 3
        }
      ]
    },
    {
      "cell_type": "code",
      "metadata": {
        "id": "8C1GcxogN0LD",
        "colab_type": "code",
        "colab": {}
      },
      "source": [
        "df_good=pd.read_csv('/content/drive/My Drive/wikipedia-promotional-articles/good.csv')"
      ],
      "execution_count": 0,
      "outputs": []
    },
    {
      "cell_type": "code",
      "metadata": {
        "id": "ih2_nNjNOhx6",
        "colab_type": "code",
        "outputId": "616c881d-1a16-4478-a93c-5866328ac3cd",
        "colab": {
          "base_uri": "https://localhost:8080/",
          "height": 34
        }
      },
      "source": [
        "len(df_good)"
      ],
      "execution_count": 0,
      "outputs": [
        {
          "output_type": "execute_result",
          "data": {
            "text/plain": [
              "30279"
            ]
          },
          "metadata": {
            "tags": []
          },
          "execution_count": 5
        }
      ]
    },
    {
      "cell_type": "code",
      "metadata": {
        "id": "6nBaF5QbQzGI",
        "colab_type": "code",
        "outputId": "9f058a43-d141-40f7-88a7-fac4d4797cc1",
        "colab": {
          "base_uri": "https://localhost:8080/",
          "height": 34
        }
      },
      "source": [
        "len(df_promo)"
      ],
      "execution_count": 0,
      "outputs": [
        {
          "output_type": "execute_result",
          "data": {
            "text/plain": [
              "23837"
            ]
          },
          "metadata": {
            "tags": []
          },
          "execution_count": 6
        }
      ]
    },
    {
      "cell_type": "code",
      "metadata": {
        "id": "Kvoq61CfQ25A",
        "colab_type": "code",
        "outputId": "fc1566f1-cdb7-4c7a-e92a-8f93a54ad0d8",
        "colab": {
          "base_uri": "https://localhost:8080/",
          "height": 204
        }
      },
      "source": [
        "df_good.head()"
      ],
      "execution_count": 0,
      "outputs": [
        {
          "output_type": "execute_result",
          "data": {
            "text/html": [
              "<div>\n",
              "<style scoped>\n",
              "    .dataframe tbody tr th:only-of-type {\n",
              "        vertical-align: middle;\n",
              "    }\n",
              "\n",
              "    .dataframe tbody tr th {\n",
              "        vertical-align: top;\n",
              "    }\n",
              "\n",
              "    .dataframe thead th {\n",
              "        text-align: right;\n",
              "    }\n",
              "</style>\n",
              "<table border=\"1\" class=\"dataframe\">\n",
              "  <thead>\n",
              "    <tr style=\"text-align: right;\">\n",
              "      <th></th>\n",
              "      <th>text</th>\n",
              "      <th>url</th>\n",
              "    </tr>\n",
              "  </thead>\n",
              "  <tbody>\n",
              "    <tr>\n",
              "      <th>0</th>\n",
              "      <td>Nycticebus linglom is a fossil strepsirrhine p...</td>\n",
              "      <td>https://en.wikipedia.org/wiki/%3F%20Nycticebus...</td>\n",
              "    </tr>\n",
              "    <tr>\n",
              "      <th>1</th>\n",
              "      <td>Oryzomys pliocaenicus is a fossil rodent from ...</td>\n",
              "      <td>https://en.wikipedia.org/wiki/%3F%20Oryzomys%2...</td>\n",
              "    </tr>\n",
              "    <tr>\n",
              "      <th>2</th>\n",
              "      <td>.hack dt hk is a series of single player actio...</td>\n",
              "      <td>https://en.wikipedia.org/wiki/.hack%20%28video...</td>\n",
              "    </tr>\n",
              "    <tr>\n",
              "      <th>3</th>\n",
              "      <td>The You Drive Me Crazy Tour was the second con...</td>\n",
              "      <td>https://en.wikipedia.org/wiki/%28You%20Drive%2...</td>\n",
              "    </tr>\n",
              "    <tr>\n",
              "      <th>4</th>\n",
              "      <td>0 8 4 is the second episode of the first seaso...</td>\n",
              "      <td>https://en.wikipedia.org/wiki/0-8-4</td>\n",
              "    </tr>\n",
              "  </tbody>\n",
              "</table>\n",
              "</div>"
            ],
            "text/plain": [
              "                                                text                                                url\n",
              "0  Nycticebus linglom is a fossil strepsirrhine p...  https://en.wikipedia.org/wiki/%3F%20Nycticebus...\n",
              "1  Oryzomys pliocaenicus is a fossil rodent from ...  https://en.wikipedia.org/wiki/%3F%20Oryzomys%2...\n",
              "2  .hack dt hk is a series of single player actio...  https://en.wikipedia.org/wiki/.hack%20%28video...\n",
              "3  The You Drive Me Crazy Tour was the second con...  https://en.wikipedia.org/wiki/%28You%20Drive%2...\n",
              "4  0 8 4 is the second episode of the first seaso...                https://en.wikipedia.org/wiki/0-8-4"
            ]
          },
          "metadata": {
            "tags": []
          },
          "execution_count": 7
        }
      ]
    },
    {
      "cell_type": "code",
      "metadata": {
        "id": "EHhM9vO0Q7LU",
        "colab_type": "code",
        "colab": {}
      },
      "source": [
        "import numpy as np\n",
        "random_indices=np.random.choice(len(df_good),replace=False,size=len(df_promo))\n",
        "df_good=df_good.iloc[random_indices]"
      ],
      "execution_count": 0,
      "outputs": []
    },
    {
      "cell_type": "code",
      "metadata": {
        "id": "Kcw3p7W0S7oN",
        "colab_type": "code",
        "outputId": "eb43e9d7-cd3a-4aa7-c2ff-7900937a167f",
        "colab": {
          "base_uri": "https://localhost:8080/",
          "height": 34
        }
      },
      "source": [
        "len(df_good)"
      ],
      "execution_count": 0,
      "outputs": [
        {
          "output_type": "execute_result",
          "data": {
            "text/plain": [
              "23837"
            ]
          },
          "metadata": {
            "tags": []
          },
          "execution_count": 9
        }
      ]
    },
    {
      "cell_type": "code",
      "metadata": {
        "id": "BLCYzODECEKN",
        "colab_type": "code",
        "outputId": "3339ca01-495d-408b-ca33-357c2a040cde",
        "colab": {
          "base_uri": "https://localhost:8080/",
          "height": 715,
          "referenced_widgets": [
            "51c0abaf27724cc58ecd0d21bd5a035d",
            "7765287263ed4d119582d6781168653c",
            "78fc08037a4c48958be0f4e29f96f8fb",
            "78dc25cfbee341d5add17d210ca29c03",
            "6a90195c9ec142adb7044daa6b50733a",
            "445a65c20e084b35958032452ab8b63d",
            "f66ab1691dde42758cb7620b54363649",
            "e4b9a0228bac4d929ab09d7c672e73ff"
          ]
        }
      },
      "source": [
        "!pip install transformers\n",
        "from transformers import BertTokenizer\n",
        "tokenizer = BertTokenizer.from_pretrained('bert-base-uncased')"
      ],
      "execution_count": 0,
      "outputs": [
        {
          "output_type": "stream",
          "text": [
            "Collecting transformers\n",
            "\u001b[?25l  Downloading https://files.pythonhosted.org/packages/4c/a0/32e3a4501ef480f7ea01aac329a716132f32f7911ef1c2fac228acc57ca7/transformers-2.6.0-py3-none-any.whl (540kB)\n",
            "\u001b[K     |████████████████████████████████| 542kB 3.4MB/s \n",
            "\u001b[?25hCollecting tokenizers==0.5.2\n",
            "\u001b[?25l  Downloading https://files.pythonhosted.org/packages/d1/3f/73c881ea4723e43c1e9acf317cf407fab3a278daab3a69c98dcac511c04f/tokenizers-0.5.2-cp36-cp36m-manylinux1_x86_64.whl (3.7MB)\n",
            "\u001b[K     |████████████████████████████████| 3.7MB 16.0MB/s \n",
            "\u001b[?25hRequirement already satisfied: boto3 in /usr/local/lib/python3.6/dist-packages (from transformers) (1.12.27)\n",
            "Requirement already satisfied: numpy in /usr/local/lib/python3.6/dist-packages (from transformers) (1.18.2)\n",
            "Collecting sentencepiece\n",
            "\u001b[?25l  Downloading https://files.pythonhosted.org/packages/74/f4/2d5214cbf13d06e7cb2c20d84115ca25b53ea76fa1f0ade0e3c9749de214/sentencepiece-0.1.85-cp36-cp36m-manylinux1_x86_64.whl (1.0MB)\n",
            "\u001b[K     |████████████████████████████████| 1.0MB 49.4MB/s \n",
            "\u001b[?25hCollecting sacremoses\n",
            "\u001b[?25l  Downloading https://files.pythonhosted.org/packages/a6/b4/7a41d630547a4afd58143597d5a49e07bfd4c42914d8335b2a5657efc14b/sacremoses-0.0.38.tar.gz (860kB)\n",
            "\u001b[K     |████████████████████████████████| 870kB 40.8MB/s \n",
            "\u001b[?25hRequirement already satisfied: requests in /usr/local/lib/python3.6/dist-packages (from transformers) (2.21.0)\n",
            "Requirement already satisfied: filelock in /usr/local/lib/python3.6/dist-packages (from transformers) (3.0.12)\n",
            "Requirement already satisfied: tqdm>=4.27 in /usr/local/lib/python3.6/dist-packages (from transformers) (4.38.0)\n",
            "Requirement already satisfied: regex!=2019.12.17 in /usr/local/lib/python3.6/dist-packages (from transformers) (2019.12.20)\n",
            "Requirement already satisfied: jmespath<1.0.0,>=0.7.1 in /usr/local/lib/python3.6/dist-packages (from boto3->transformers) (0.9.5)\n",
            "Requirement already satisfied: botocore<1.16.0,>=1.15.27 in /usr/local/lib/python3.6/dist-packages (from boto3->transformers) (1.15.27)\n",
            "Requirement already satisfied: s3transfer<0.4.0,>=0.3.0 in /usr/local/lib/python3.6/dist-packages (from boto3->transformers) (0.3.3)\n",
            "Requirement already satisfied: six in /usr/local/lib/python3.6/dist-packages (from sacremoses->transformers) (1.12.0)\n",
            "Requirement already satisfied: click in /usr/local/lib/python3.6/dist-packages (from sacremoses->transformers) (7.1.1)\n",
            "Requirement already satisfied: joblib in /usr/local/lib/python3.6/dist-packages (from sacremoses->transformers) (0.14.1)\n",
            "Requirement already satisfied: chardet<3.1.0,>=3.0.2 in /usr/local/lib/python3.6/dist-packages (from requests->transformers) (3.0.4)\n",
            "Requirement already satisfied: certifi>=2017.4.17 in /usr/local/lib/python3.6/dist-packages (from requests->transformers) (2019.11.28)\n",
            "Requirement already satisfied: urllib3<1.25,>=1.21.1 in /usr/local/lib/python3.6/dist-packages (from requests->transformers) (1.24.3)\n",
            "Requirement already satisfied: idna<2.9,>=2.5 in /usr/local/lib/python3.6/dist-packages (from requests->transformers) (2.8)\n",
            "Requirement already satisfied: docutils<0.16,>=0.10 in /usr/local/lib/python3.6/dist-packages (from botocore<1.16.0,>=1.15.27->boto3->transformers) (0.15.2)\n",
            "Requirement already satisfied: python-dateutil<3.0.0,>=2.1 in /usr/local/lib/python3.6/dist-packages (from botocore<1.16.0,>=1.15.27->boto3->transformers) (2.8.1)\n",
            "Building wheels for collected packages: sacremoses\n",
            "  Building wheel for sacremoses (setup.py) ... \u001b[?25l\u001b[?25hdone\n",
            "  Created wheel for sacremoses: filename=sacremoses-0.0.38-cp36-none-any.whl size=884628 sha256=6d99181fa87af8ba09eed3b0fbe988f7df954cf97a83337dedd6277371be8832\n",
            "  Stored in directory: /root/.cache/pip/wheels/6d/ec/1a/21b8912e35e02741306f35f66c785f3afe94de754a0eaf1422\n",
            "Successfully built sacremoses\n",
            "Installing collected packages: tokenizers, sentencepiece, sacremoses, transformers\n",
            "Successfully installed sacremoses-0.0.38 sentencepiece-0.1.85 tokenizers-0.5.2 transformers-2.6.0\n"
          ],
          "name": "stdout"
        },
        {
          "output_type": "display_data",
          "data": {
            "application/vnd.jupyter.widget-view+json": {
              "model_id": "51c0abaf27724cc58ecd0d21bd5a035d",
              "version_minor": 0,
              "version_major": 2
            },
            "text/plain": [
              "HBox(children=(IntProgress(value=0, description='Downloading', max=231508, style=ProgressStyle(description_wid…"
            ]
          },
          "metadata": {
            "tags": []
          }
        },
        {
          "output_type": "stream",
          "text": [
            "\n"
          ],
          "name": "stdout"
        }
      ]
    },
    {
      "cell_type": "code",
      "metadata": {
        "id": "__OT0P02co5g",
        "colab_type": "code",
        "outputId": "9e97aef9-5fe5-4a88-9543-1ff838e4e20c",
        "colab": {
          "base_uri": "https://localhost:8080/",
          "height": 51
        }
      },
      "source": [
        "# import nltk\n",
        "# nltk.download('punkt')\n",
        "import pickle\n",
        "df_promo.drop(labels=['advert','coi','fanpov','pr','resume','url'],inplace=True,axis=1)\n",
        "df_promo['label']=1\n",
        "df_good.drop(labels=['url'],axis=1,inplace=True)\n",
        "df_good['label']=0\n",
        "\n",
        "df_good['encoding']=df_good['text'].apply(lambda x: tokenizer.tokenize(x))\n",
        "df_promo['encoding']=df_promo['text'].apply(lambda x: tokenizer.tokenize(x))\n",
        "df=pd.concat([df_good,df_promo],axis=0,join='inner')"
      ],
      "execution_count": 0,
      "outputs": [
        {
          "output_type": "stream",
          "text": [
            "[nltk_data] Downloading package punkt to /root/nltk_data...\n",
            "[nltk_data]   Package punkt is already up-to-date!\n"
          ],
          "name": "stdout"
        }
      ]
    },
    {
      "cell_type": "code",
      "metadata": {
        "id": "TaEpEK4vm8nL",
        "colab_type": "code",
        "outputId": "9e70558f-8c4f-4931-f802-b8226e5e6059",
        "colab": {
          "base_uri": "https://localhost:8080/",
          "height": 272
        }
      },
      "source": [
        "import pickle\n",
        "import torch.nn as nn\n",
        "def pad(tokens):\n",
        "  if(len(tokens)<512):\n",
        "    return tokens+['[PAD]' for _ in range(512-len(tokens))]\n",
        "  else:\n",
        "    return tokens[:512]  \n",
        "    \n",
        "df['encoding']=df['encoding'].apply(lambda x: pad(x))\n",
        "print(df.isna().sum())\n",
        "\n",
        "df['encoding']=df['encoding'].apply(lambda x:tokenizer.convert_tokens_to_ids(x))\n",
        "df.head()"
      ],
      "execution_count": 0,
      "outputs": [
        {
          "output_type": "stream",
          "text": [
            "text        0\n",
            "label       0\n",
            "encoding    0\n",
            "dtype: int64\n"
          ],
          "name": "stdout"
        },
        {
          "output_type": "execute_result",
          "data": {
            "text/html": [
              "<div>\n",
              "<style scoped>\n",
              "    .dataframe tbody tr th:only-of-type {\n",
              "        vertical-align: middle;\n",
              "    }\n",
              "\n",
              "    .dataframe tbody tr th {\n",
              "        vertical-align: top;\n",
              "    }\n",
              "\n",
              "    .dataframe thead th {\n",
              "        text-align: right;\n",
              "    }\n",
              "</style>\n",
              "<table border=\"1\" class=\"dataframe\">\n",
              "  <thead>\n",
              "    <tr style=\"text-align: right;\">\n",
              "      <th></th>\n",
              "      <th>text</th>\n",
              "      <th>label</th>\n",
              "      <th>encoding</th>\n",
              "    </tr>\n",
              "  </thead>\n",
              "  <tbody>\n",
              "    <tr>\n",
              "      <th>24627</th>\n",
              "      <td>The Siege of Berat in Albania by the forces of...</td>\n",
              "      <td>0</td>\n",
              "      <td>[1996, 6859, 1997, 2022, 8609, 1999, 10407, 20...</td>\n",
              "    </tr>\n",
              "    <tr>\n",
              "      <th>12005</th>\n",
              "      <td>Eric Harrison 10 August 1886 5 September 1945 ...</td>\n",
              "      <td>0</td>\n",
              "      <td>[4388, 6676, 2184, 2257, 6929, 1019, 2244, 338...</td>\n",
              "    </tr>\n",
              "    <tr>\n",
              "      <th>20978</th>\n",
              "      <td>Papers is a song by American recording artist ...</td>\n",
              "      <td>0</td>\n",
              "      <td>[4981, 2003, 1037, 2299, 2011, 2137, 3405, 306...</td>\n",
              "    </tr>\n",
              "    <tr>\n",
              "      <th>25415</th>\n",
              "      <td>The United States Coast Guard USCG Women's Res...</td>\n",
              "      <td>0</td>\n",
              "      <td>[1996, 2142, 2163, 3023, 3457, 15529, 2290, 23...</td>\n",
              "    </tr>\n",
              "    <tr>\n",
              "      <th>675</th>\n",
              "      <td>The 1973 Preakness Stakes was the 98th running...</td>\n",
              "      <td>0</td>\n",
              "      <td>[1996, 3381, 3653, 4817, 2791, 7533, 2001, 199...</td>\n",
              "    </tr>\n",
              "  </tbody>\n",
              "</table>\n",
              "</div>"
            ],
            "text/plain": [
              "                                                    text  ...                                           encoding\n",
              "24627  The Siege of Berat in Albania by the forces of...  ...  [1996, 6859, 1997, 2022, 8609, 1999, 10407, 20...\n",
              "12005  Eric Harrison 10 August 1886 5 September 1945 ...  ...  [4388, 6676, 2184, 2257, 6929, 1019, 2244, 338...\n",
              "20978  Papers is a song by American recording artist ...  ...  [4981, 2003, 1037, 2299, 2011, 2137, 3405, 306...\n",
              "25415  The United States Coast Guard USCG Women's Res...  ...  [1996, 2142, 2163, 3023, 3457, 15529, 2290, 23...\n",
              "675    The 1973 Preakness Stakes was the 98th running...  ...  [1996, 3381, 3653, 4817, 2791, 7533, 2001, 199...\n",
              "\n",
              "[5 rows x 3 columns]"
            ]
          },
          "metadata": {
            "tags": []
          },
          "execution_count": 25
        }
      ]
    },
    {
      "cell_type": "code",
      "metadata": {
        "id": "wTYkTjMmwR-P",
        "colab_type": "code",
        "outputId": "1552a8fe-7089-491e-ac6a-121869ddf04b",
        "colab": {
          "base_uri": "https://localhost:8080/",
          "height": 289
        }
      },
      "source": [
        "import pickle\n",
        "# with open('/content/drive/My Drive/wikipedia-promotional-articles/train_GRU_Pool.pkl','wb') as f:\n",
        "#   pickle.dump(df,f)\n",
        "\n",
        "with open('/content/drive/My Drive/wikipedia-promotional-articles/train.pkl','rb') as f:\n",
        "  df=pickle.load(f)\n",
        "df.head()"
      ],
      "execution_count": 0,
      "outputs": [
        {
          "output_type": "execute_result",
          "data": {
            "text/html": [
              "<div>\n",
              "<style scoped>\n",
              "    .dataframe tbody tr th:only-of-type {\n",
              "        vertical-align: middle;\n",
              "    }\n",
              "\n",
              "    .dataframe tbody tr th {\n",
              "        vertical-align: top;\n",
              "    }\n",
              "\n",
              "    .dataframe thead th {\n",
              "        text-align: right;\n",
              "    }\n",
              "</style>\n",
              "<table border=\"1\" class=\"dataframe\">\n",
              "  <thead>\n",
              "    <tr style=\"text-align: right;\">\n",
              "      <th></th>\n",
              "      <th>text</th>\n",
              "      <th>label</th>\n",
              "      <th>encoding</th>\n",
              "      <th>attn_mask</th>\n",
              "      <th>cls_index</th>\n",
              "    </tr>\n",
              "  </thead>\n",
              "  <tbody>\n",
              "    <tr>\n",
              "      <th>9287</th>\n",
              "      <td>Eppur Si Muove is the 104th episode of The Wes...</td>\n",
              "      <td>0</td>\n",
              "      <td>[101, 4958, 5311, 9033, 14163, 21818, 2003, 19...</td>\n",
              "      <td>[1, 1, 1, 1, 1, 1, 1, 1, 1, 1, 1, 1, 1, 1, 1, ...</td>\n",
              "      <td>[0, 24, 36, 59, 98, 120, 172, 204, 245, 257, 2...</td>\n",
              "    </tr>\n",
              "    <tr>\n",
              "      <th>3911</th>\n",
              "      <td>USS Benham Destroyer No. 49 DD 49 was an Aylwi...</td>\n",
              "      <td>0</td>\n",
              "      <td>[101, 7234, 3841, 3511, 9799, 2053, 1012, 102,...</td>\n",
              "      <td>[1, 1, 1, 1, 1, 1, 1, 1, 1, 1, 1, 1, 1, 1, 1, ...</td>\n",
              "      <td>[0, 8, 36, 63, 86, 131, 153, 185, 216, 232, 27...</td>\n",
              "    </tr>\n",
              "    <tr>\n",
              "      <th>22101</th>\n",
              "      <td>Prison Break is an American television serial ...</td>\n",
              "      <td>0</td>\n",
              "      <td>[101, 3827, 3338, 2003, 2019, 2137, 2547, 7642...</td>\n",
              "      <td>[1, 1, 1, 1, 1, 1, 1, 1, 1, 1, 1, 1, 1, 1, 1, ...</td>\n",
              "      <td>[0, 19, 73, 98, 146, 172, 198, 221, 238, 266, ...</td>\n",
              "    </tr>\n",
              "    <tr>\n",
              "      <th>17770</th>\n",
              "      <td>Narinder Kumar Mehra born 4 November 1949 is a...</td>\n",
              "      <td>0</td>\n",
              "      <td>[101, 6583, 6657, 4063, 9600, 2033, 13492, 214...</td>\n",
              "      <td>[1, 1, 1, 1, 1, 1, 1, 1, 1, 1, 1, 1, 1, 1, 1, ...</td>\n",
              "      <td>[0, 44, 65, 75, 125, 180, 200, 286, 358, 383, ...</td>\n",
              "    </tr>\n",
              "    <tr>\n",
              "      <th>2963</th>\n",
              "      <td>Keith Aulie born June 11, 1989 is a Canadian p...</td>\n",
              "      <td>0</td>\n",
              "      <td>[101, 6766, 8740, 8751, 2141, 2238, 2340, 1010...</td>\n",
              "      <td>[1, 1, 1, 1, 1, 1, 1, 1, 1, 1, 1, 1, 1, 1, 1, ...</td>\n",
              "      <td>[0, 34, 54, 88, 118, 146, 162, 191, 227, 250, ...</td>\n",
              "    </tr>\n",
              "  </tbody>\n",
              "</table>\n",
              "</div>"
            ],
            "text/plain": [
              "                                                    text  ...                                          cls_index\n",
              "9287   Eppur Si Muove is the 104th episode of The Wes...  ...  [0, 24, 36, 59, 98, 120, 172, 204, 245, 257, 2...\n",
              "3911   USS Benham Destroyer No. 49 DD 49 was an Aylwi...  ...  [0, 8, 36, 63, 86, 131, 153, 185, 216, 232, 27...\n",
              "22101  Prison Break is an American television serial ...  ...  [0, 19, 73, 98, 146, 172, 198, 221, 238, 266, ...\n",
              "17770  Narinder Kumar Mehra born 4 November 1949 is a...  ...  [0, 44, 65, 75, 125, 180, 200, 286, 358, 383, ...\n",
              "2963   Keith Aulie born June 11, 1989 is a Canadian p...  ...  [0, 34, 54, 88, 118, 146, 162, 191, 227, 250, ...\n",
              "\n",
              "[5 rows x 5 columns]"
            ]
          },
          "metadata": {
            "tags": []
          },
          "execution_count": 8
        }
      ]
    },
    {
      "cell_type": "code",
      "metadata": {
        "id": "5havxaocO_r-",
        "colab_type": "code",
        "colab": {}
      },
      "source": [
        "from torch.utils.data import Dataset\n",
        "class ClassifierDataset(Dataset):\n",
        "  def __init__(self,df):\n",
        "    self.df=df\n",
        "\n",
        "  def __len__(self): \n",
        "    return len(self.df)\n",
        "\n",
        "  def __getitem__(self,index):\n",
        "    return torch.tensor(self.df.iloc[index]['encoding']),torch.tensor(self.df.iloc[index]['label'])"
      ],
      "execution_count": 0,
      "outputs": []
    },
    {
      "cell_type": "code",
      "metadata": {
        "id": "IHVVS2F0Pq-k",
        "colab_type": "code",
        "colab": {}
      },
      "source": [
        "from torch.utils.data import DataLoader\n",
        "import numpy as np\n",
        "msk = np.random.rand(len(df)) < 0.8\n",
        "train=df[msk]\n",
        "val=df[~msk]\n",
        "train_set=ClassifierDataset(train)\n",
        "val_set=ClassifierDataset(val)\n",
        "train_loader=DataLoader(train_set, batch_size = 16)\n",
        "val_loader = DataLoader(val_set, batch_size = 16)\n",
        "import torch\n",
        "import torch.nn as nn"
      ],
      "execution_count": 0,
      "outputs": []
    },
    {
      "cell_type": "markdown",
      "metadata": {
        "id": "ZebAU701G2X2",
        "colab_type": "text"
      },
      "source": [
        "# Model"
      ]
    },
    {
      "cell_type": "code",
      "metadata": {
        "id": "agj2JQKzSsQ_",
        "colab_type": "code",
        "colab": {}
      },
      "source": [
        "class DocumentClassifier(nn.Module):\n",
        "    def __init__(self, embedding_size,hidden_size):\n",
        "        super(DocumentClassifier, self).__init__()\n",
        "        self.embedding=nn.Embedding(tokenizer.vocab_size,embedding_size,padding_idx=tokenizer.pad_token_id)\n",
        "        self.gru=nn.GRUCell(embedding_size,hidden_size)\n",
        "        self.maxpool=nn.MaxPool2d((3,3),stride=2)\n",
        "        self.linear=nn.Linear(49,1)\n",
        "        self.out=nn.Linear(255,1)\n",
        "        \n",
        "    def forward(self, seq):\n",
        "        embedded=self.embedding(seq)\n",
        "        hidden=None\n",
        "        forward_output=[]\n",
        "        for i in range(embedded.shape[1]):\n",
        "            hidden=self.gru(embedded[:,i,:],hidden)            \n",
        "            forward_output.append(hidden.unsqueeze(1))\n",
        "        forward_output=torch.cat((forward_output),1)        \n",
        "        \n",
        "        backward_output=[]\n",
        "        hidden=None\n",
        "        for i in reversed(range(embedded.shape[1])):\n",
        "            hidden=self.gru(embedded[:,i,:],hidden)\n",
        "            backward_output.append(hidden.unsqueeze(1))\n",
        "        backward_output=torch.cat((backward_output),1)\n",
        "\n",
        "        output=torch.cat((forward_output,backward_output),2)        \n",
        "        output=self.maxpool(output)\n",
        "        output=self.linear(output)\n",
        "        logits=self.out(output.squeeze())\n",
        "        return logits"
      ],
      "execution_count": 0,
      "outputs": []
    },
    {
      "cell_type": "markdown",
      "metadata": {
        "id": "T3uoffeCG6Rs",
        "colab_type": "text"
      },
      "source": [
        "# Training"
      ]
    },
    {
      "cell_type": "code",
      "metadata": {
        "id": "CshhphC7SzNV",
        "colab_type": "code",
        "outputId": "9aa7e685-a32b-46c4-a908-fd4eddf9753e",
        "colab": {
          "base_uri": "https://localhost:8080/",
          "height": 136
        }
      },
      "source": [
        "import torch.optim as optim\n",
        "import tqdm\n",
        "import os\n",
        "device = 'cuda' if torch.cuda.is_available() else 'cpu'\n",
        "embedding_size=100\n",
        "hidden_size=50\n",
        "model=DocumentClassifier(embedding_size,hidden_size).to(device)\n",
        "if(os.path.exists('/content/drive/My Drive/wikipedia-promotional-articles/model_GRU_Pool.pt')):\n",
        "    model.load_state_dict(torch.load('/content/drive/My Drive/wikipedia-promotional-articles/model_GRU_Pool.pt'))\n",
        "criterion = nn.BCEWithLogitsLoss()\n",
        "optimizer = optim.Adam(model.parameters(), lr = 1e-6)\n",
        "\n",
        "sig=nn.Sigmoid()\n",
        "# training_loss=[]\n",
        "val_losses=[]\n",
        "for _e in range(50):\n",
        "    train_loss=0\n",
        "    for t, (seq, labels) in enumerate(train_loader):\n",
        "        seq=seq.to(device)\n",
        "        labels =labels.to(device)                 \n",
        "        optimizer.zero_grad()\n",
        "        logits=model(seq)       \n",
        "        loss = criterion(logits.squeeze(-1), labels.float().view(-1))\n",
        "        train_loss+=loss.data.item()\n",
        "        loss.backward()\n",
        "        optimizer.step()\n",
        "    train_loss= np.mean(train_loss)\n",
        "    val_loss=0\n",
        "    for t, (seq, labels) in enumerate(val_loader):       \n",
        "        seq=seq.to(device)\n",
        "        labels =labels.to(device)                \n",
        "        optimizer.zero_grad()\n",
        "        logits=model(seq)\n",
        "        loss = criterion(logits.squeeze(-1), labels.float())\n",
        "        val_loss+=loss.data.item()\n",
        "    val_loss= np.mean(val_loss)   \n",
        "    if(len(val_losses)>0 and val_loss<min(val_losses)):\n",
        "      torch.save(model.state_dict(), '/content/drive/My Drive/wikipedia-promotional-articles/model_GRU_Pool.pt')  \n",
        "    val_losses.append(val_loss)      \n",
        "    print('training loss:{} validation loss:{}'.format(train_loss,val_loss))      "
      ],
      "execution_count": 0,
      "outputs": [
        {
          "output_type": "stream",
          "text": [
            "training loss:687.6087683381629 validation loss:186.13017386151478\n",
            "training loss:609.9301257077605 validation loss:166.96697031136137\n",
            "training loss:555.9381862428272 validation loss:155.46413249499165\n",
            "training loss:523.9732703529298 validation loss:148.56438296381384\n",
            "training loss:504.9015784121584 validation loss:144.35515769082122\n",
            "training loss:493.1696209271904 validation loss:141.70349595858715\n",
            "training loss:485.56245479756035 validation loss:139.9535783934407\n"
          ],
          "name": "stdout"
        }
      ]
    },
    {
      "cell_type": "code",
      "metadata": {
        "id": "cBb619BEeujQ",
        "colab_type": "code",
        "colab": {}
      },
      "source": [
        "with open('/content/drive/My Drive/wikipedia-promotional-articles/val_losses.pkl','wb') as f:\n",
        "  pickle.dump(val_losses,f)"
      ],
      "execution_count": 0,
      "outputs": []
    },
    {
      "cell_type": "markdown",
      "metadata": {
        "id": "7dUD6mvEHHdL",
        "colab_type": "text"
      },
      "source": [
        "# Testing"
      ]
    },
    {
      "cell_type": "code",
      "metadata": {
        "id": "MW-YGPv4JNbE",
        "colab_type": "code",
        "colab": {}
      },
      "source": [
        "import torch.optim as optim\n",
        "import tqdm\n",
        "import os\n",
        "device = 'cuda' if torch.cuda.is_available() else 'cpu'\n",
        "embedding_size=100\n",
        "hidden_size=50\n",
        "model=DocumentClassifier(embedding_size,hidden_size).to(device)\n",
        "if(os.path.exists('/content/drive/My Drive/wikipedia-promotional-articles/model_GRU_Pool.pt')):\n",
        "    model.load_state_dict(torch.load('/content/drive/My Drive/wikipedia-promotional-articles/model_GRU_Pool.pt'))\n",
        "# criterion = nn.BCEWithLogitsLoss()\n",
        "# optimizer = optim.Adam(model.parameters(), lr = 1e-4)\n",
        "\n",
        "sig=nn.Sigmoid()\n",
        "# training_loss=[]\n",
        "val_losses=[]\n",
        "probabs=[]\n",
        "for seq, labels in val_loader:       \n",
        "    seq=seq.to(device)\n",
        "    labels =labels.to(device)\n",
        "    logits=model(seq)\n",
        "    out=sig(logits.view(-1))\n",
        "    probabs.append(out) \n",
        "# print('training loss:{} validation loss:{}'.format(train_loss,val_loss))      "
      ],
      "execution_count": 0,
      "outputs": []
    },
    {
      "cell_type": "code",
      "metadata": {
        "id": "jMxFLFUNZjzO",
        "colab_type": "code",
        "colab": {}
      },
      "source": [
        "# train_inputs, validation_inputs, train_labels, validation_labels = train_test_split(list(df['encoding']), list(df['label']), \n",
        "#                                                             random_state=2018, test_size=0.1)\n",
        "# # Do the same for the masks.\n",
        "# train_masks, validation_masks, _, _ = train_test_split(list(df['attention_mask']), list(df['label']),\n",
        "#                                              random_state=2018, test_size=0.1)\n",
        "with open('/content/drive/My Drive/wikipedia-promotional-articles/probabs.pkl','wb') as f:\n",
        "  pickle.dump(probabs,f)"
      ],
      "execution_count": 0,
      "outputs": []
    },
    {
      "cell_type": "code",
      "metadata": {
        "id": "9Vg3Nqb6X-7s",
        "colab_type": "code",
        "colab": {}
      },
      "source": [
        ""
      ],
      "execution_count": 0,
      "outputs": []
    },
    {
      "cell_type": "code",
      "metadata": {
        "id": "dgC75hrwT767",
        "colab_type": "code",
        "colab": {}
      },
      "source": [
        ""
      ],
      "execution_count": 0,
      "outputs": []
    }
  ]
}